{
 "cells": [
  {
   "cell_type": "code",
   "execution_count": 1,
   "metadata": {},
   "outputs": [
    {
     "name": "stdout",
     "output_type": "stream",
     "text": [
      "x is bigger than 2\n"
     ]
    }
   ],
   "source": [
    "x=10\n",
    "if x>2:\n",
    "    print(\"x is bigger than 2\")\n",
    "elif x<0:\n",
    "    print(\"x is negative\")\n",
    "else:\n",
    "    print(\"x is 0, 1, or 2\")"
   ]
  },
  {
   "cell_type": "code",
   "execution_count": 2,
   "metadata": {},
   "outputs": [
    {
     "data": {
      "text/plain": [
       "'Hello World'"
      ]
     },
     "execution_count": 2,
     "metadata": {},
     "output_type": "execute_result"
    }
   ],
   "source": [
    "\"Hello World\""
   ]
  },
  {
   "cell_type": "code",
   "execution_count": 5,
   "metadata": {},
   "outputs": [
    {
     "name": "stdout",
     "output_type": "stream",
     "text": [
      "1863\n",
      "value is odd\n",
      "value is  1863\n"
     ]
    }
   ],
   "source": [
    "import random\n",
    "\n",
    "value = random.randint(1000,9999)\n",
    "\n",
    "print(value)\n",
    "\n",
    "if value % 2 == 1:\n",
    "    print(\"value is odd\")\n",
    "print(\"value is \", value)"
   ]
  },
  {
   "cell_type": "code",
   "execution_count": 2,
   "metadata": {},
   "outputs": [],
   "source": [
    "evens = 0\n",
    "odds = 0"
   ]
  },
  {
   "cell_type": "code",
   "execution_count": 7,
   "metadata": {},
   "outputs": [
    {
     "name": "stdout",
     "output_type": "stream",
     "text": [
      "value is odd\n",
      "value is  5925\n",
      "odds 1\n",
      "evens 0\n"
     ]
    }
   ],
   "source": [
    "value = random.randint(1000,9999)\n",
    "if value % 2 == 1:\n",
    "    print(\"value is odd\")\n",
    "    odds = odds + 1\n",
    "else:\n",
    "    evens += 1\n",
    "print(\"value is \", value)\n",
    "print(\"odds\", odds)\n",
    "print(\"evens\", evens)"
   ]
  },
  {
   "cell_type": "code",
   "execution_count": 4,
   "metadata": {},
   "outputs": [
    {
     "name": "stdout",
     "output_type": "stream",
     "text": [
      "value is odd\n",
      "value is  2305\n",
      "odds 1\n",
      "evens 0\n",
      "value is odd\n",
      "value is  5787\n",
      "odds 2\n",
      "evens 0\n",
      "value is odd\n",
      "value is  1129\n",
      "odds 3\n",
      "evens 0\n",
      "value is  6266\n",
      "odds 3\n",
      "evens 1\n",
      "value is odd\n",
      "value is  5759\n",
      "odds 4\n",
      "evens 1\n",
      "value is  4840\n",
      "odds 4\n",
      "evens 2\n",
      "value is  2504\n",
      "odds 4\n",
      "evens 3\n",
      "value is odd\n",
      "value is  7107\n",
      "odds 5\n",
      "evens 3\n",
      "value is odd\n",
      "value is  9137\n",
      "odds 6\n",
      "evens 3\n",
      "value is odd\n",
      "value is  6123\n",
      "odds 7\n",
      "evens 3\n",
      "value is odd\n",
      "value is  2691\n",
      "odds 8\n",
      "evens 3\n",
      "value is  2682\n",
      "odds 8\n",
      "evens 4\n",
      "value is odd\n",
      "value is  8001\n",
      "odds 9\n",
      "evens 4\n",
      "value is  7544\n",
      "odds 9\n",
      "evens 5\n",
      "value is  2232\n",
      "odds 9\n",
      "evens 6\n",
      "value is odd\n",
      "value is  8573\n",
      "odds 10\n",
      "evens 6\n",
      "value is odd\n",
      "value is  3523\n",
      "odds 11\n",
      "evens 6\n",
      "value is  6158\n",
      "odds 11\n",
      "evens 7\n",
      "value is  6440\n",
      "odds 11\n",
      "evens 8\n",
      "value is  2274\n",
      "odds 11\n",
      "evens 9\n",
      "value is  5774\n",
      "odds 11\n",
      "evens 10\n",
      "value is odd\n",
      "value is  2605\n",
      "odds 12\n",
      "evens 10\n",
      "value is  8576\n",
      "odds 12\n",
      "evens 11\n",
      "value is odd\n",
      "value is  1697\n",
      "odds 13\n",
      "evens 11\n",
      "value is  3272\n",
      "odds 13\n",
      "evens 12\n",
      "value is odd\n",
      "value is  1719\n",
      "odds 14\n",
      "evens 12\n",
      "value is odd\n",
      "value is  9797\n",
      "odds 15\n",
      "evens 12\n",
      "value is odd\n",
      "value is  1565\n",
      "odds 16\n",
      "evens 12\n",
      "value is  3146\n",
      "odds 16\n",
      "evens 13\n",
      "value is odd\n",
      "value is  3583\n",
      "odds 17\n",
      "evens 13\n",
      "value is  8852\n",
      "odds 17\n",
      "evens 14\n",
      "value is  7180\n",
      "odds 17\n",
      "evens 15\n",
      "value is odd\n",
      "value is  5343\n",
      "odds 18\n",
      "evens 15\n",
      "value is  9638\n",
      "odds 18\n",
      "evens 16\n",
      "value is odd\n",
      "value is  9203\n",
      "odds 19\n",
      "evens 16\n",
      "value is odd\n",
      "value is  5669\n",
      "odds 20\n",
      "evens 16\n",
      "value is odd\n",
      "value is  7555\n",
      "odds 21\n",
      "evens 16\n",
      "value is  3258\n",
      "odds 21\n",
      "evens 17\n",
      "value is odd\n",
      "value is  7593\n",
      "odds 22\n",
      "evens 17\n",
      "value is odd\n",
      "value is  9887\n",
      "odds 23\n",
      "evens 17\n",
      "value is  2024\n",
      "odds 23\n",
      "evens 18\n",
      "value is  8626\n",
      "odds 23\n",
      "evens 19\n",
      "value is  7216\n",
      "odds 23\n",
      "evens 20\n",
      "value is  3074\n",
      "odds 23\n",
      "evens 21\n",
      "value is  9306\n",
      "odds 23\n",
      "evens 22\n",
      "value is  3848\n",
      "odds 23\n",
      "evens 23\n",
      "value is odd\n",
      "value is  6421\n",
      "odds 24\n",
      "evens 23\n",
      "value is odd\n",
      "value is  5045\n",
      "odds 25\n",
      "evens 23\n",
      "value is  4278\n",
      "odds 25\n",
      "evens 24\n",
      "value is odd\n",
      "value is  7101\n",
      "odds 26\n",
      "evens 24\n"
     ]
    }
   ],
   "source": [
    "import random\n",
    "\n",
    "count = 0\n",
    "\n",
    "while count < 50:\n",
    "    value = random.randint(1000,9999)\n",
    "    if value % 2 == 1:\n",
    "        print(\"value is odd\")\n",
    "        odds = odds + 1\n",
    "    else:\n",
    "        evens += 1\n",
    "    print(\"value is \", value)\n",
    "    print(\"odds\", odds)\n",
    "    print(\"evens\", evens)\n",
    "    count += 1"
   ]
  }
 ],
 "metadata": {
  "kernelspec": {
   "display_name": "Python 3",
   "language": "python",
   "name": "python3"
  },
  "language_info": {
   "codemirror_mode": {
    "name": "ipython",
    "version": 3
   },
   "file_extension": ".py",
   "mimetype": "text/x-python",
   "name": "python",
   "nbconvert_exporter": "python",
   "pygments_lexer": "ipython3",
   "version": "3.10.8"
  },
  "orig_nbformat": 4
 },
 "nbformat": 4,
 "nbformat_minor": 2
}
